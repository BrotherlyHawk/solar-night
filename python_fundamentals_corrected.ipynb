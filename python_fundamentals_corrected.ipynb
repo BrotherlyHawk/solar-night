{
 "cells": [
  {
   "cell_type": "markdown",
   "id": "b972fec4",
   "metadata": {},
   "source": [
    "\n",
    "# Python Fundamentals Notebook\n",
    "\n",
    "Welcome, Charlie! In this Jupyter notebook, you'll explore some of the fundamental concepts of Python programming including control flow, lists, loops, and functions. \n",
    "We'll go through mini-modules that include explanations, code examples, and exercises. By the end of this notebook, you'll be able to integrate all these concepts to solve a programming challenge. \n",
    "Let's dive in!\n"
   ]
  },
  {
   "cell_type": "markdown",
   "id": "0b5f6573",
   "metadata": {},
   "source": [
    "\n",
    "## Control Flow\n",
    "\n",
    "Control flow in Python uses `if`, `elif`, and `else` statements to allow for conditional execution of code segments. \n",
    "Control flow statements are a fundamental part of Python and are essential for decision-making in programming.\n"
   ]
  },
  {
   "cell_type": "code",
   "execution_count": 1,
   "id": "b6af5964",
   "metadata": {},
   "outputs": [
    {
     "name": "stdout",
     "output_type": "stream",
     "text": [
      "x is positive\n"
     ]
    }
   ],
   "source": [
    "\n",
    "x = 10\n",
    "if x > 0:\n",
    "    print(\"x is positive\")\n",
    "elif x < 0:\n",
    "    print(\"x is negative\")\n",
    "else:\n",
    "    print(\"x is zero\")\n"
   ]
  },
  {
   "cell_type": "markdown",
   "id": "c3dcc558",
   "metadata": {},
   "source": [
    "\n",
    "### Exercise: Control Flow\n",
    "Write a control flow to check if a number is even or odd and print out an appropriate message.\n"
   ]
  },
  {
   "cell_type": "code",
   "execution_count": null,
   "id": "81a18a03",
   "metadata": {},
   "outputs": [],
   "source": [
    "# Your solution here"
   ]
  }
 ],
 "metadata": {
  "kernelspec": {
   "display_name": "Python 3",
   "language": "python",
   "name": "python3"
  },
  "language_info": {
   "codemirror_mode": {
    "name": "ipython",
    "version": 3
   },
   "file_extension": ".py",
   "mimetype": "text/x-python",
   "name": "python",
   "nbconvert_exporter": "python",
   "pygments_lexer": "ipython3",
   "version": "3.11.6"
  }
 },
 "nbformat": 4,
 "nbformat_minor": 5
}
